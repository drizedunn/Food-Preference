{
  "nbformat": 4,
  "nbformat_minor": 0,
  "metadata": {
    "colab": {
      "provenance": [],
      "mount_file_id": "1Kcl7jXExdMHGHpFoksaIGbRYX24yUgpd",
      "authorship_tag": "ABX9TyPvLk01ixY31woeeBLRA7iT",
      "include_colab_link": true
    },
    "kernelspec": {
      "name": "python3",
      "display_name": "Python 3"
    },
    "language_info": {
      "name": "python"
    }
  },
  "cells": [
    {
      "cell_type": "markdown",
      "metadata": {
        "id": "view-in-github",
        "colab_type": "text"
      },
      "source": [
        "<a href=\"https://colab.research.google.com/github/drizedunn/Food-Preference/blob/main/food_preference.ipynb\" target=\"_parent\"><img src=\"https://colab.research.google.com/assets/colab-badge.svg\" alt=\"Open In Colab\"/></a>"
      ]
    },
    {
      "cell_type": "markdown",
      "source": [
        "# Food Preference\n",
        "In this project, we predict the food type of individuals. It can either be western food or tradition food."
      ],
      "metadata": {
        "id": "qlkdZC4c-ZeL"
      }
    },
    {
      "cell_type": "code",
      "execution_count": null,
      "metadata": {
        "id": "ZG4J2wfPZVzE"
      },
      "outputs": [],
      "source": [
        "# Importing the needed libraries\n",
        "\n",
        "# !pip install shap\n",
        "# !pip install colorama\n",
        "\n",
        "import numpy as np\n",
        "import pandas as pd\n",
        "import seaborn as sns\n",
        "import matplotlib.pyplot as plt\n",
        "\n",
        "from datetime import datetime\n",
        "from colorama import Style, Fore, Back\n",
        "from sklearn.model_selection import RandomizedSearchCV, GridSearchCV\n",
        "from joblib import dump\n",
        "\n",
        "from sklearn.metrics import accuracy_score, plot_confusion_matrix\n",
        "from sklearn.ensemble import RandomForestClassifier\n",
        "from sklearn.tree import DecisionTreeClassifier\n",
        "from sklearn.model_selection import train_test_split, KFold, cross_val_score\n",
        "\n",
        "import shap\n",
        "import warnings\n",
        "\n",
        "plt.style.use('seaborn')\n",
        "warnings.filterwarnings('ignore')\n",
        "%matplotlib inline"
      ]
    },
    {
      "cell_type": "markdown",
      "source": [
        "### Data Collection and loading\n",
        "\n",
        "The data is a food survey conducted among participants from different countries and demography which can be found [here](https://www.kaggle.com/datasets/vijayashreer/food-preferences)"
      ],
      "metadata": {
        "id": "T07xbFGfBWzL"
      }
    },
    {
      "cell_type": "code",
      "source": [
        "# reading the data\n",
        "# data = pd.read_csv('/content/drive/MyDrive/Datasets/Food_Preference.csv')\n",
        "data = pd.read_csv('./dataset/Food_Preference.csv')"
      ],
      "metadata": {
        "id": "HspkSeMvZf1m"
      },
      "execution_count": 2,
      "outputs": []
    },
    {
      "cell_type": "code",
      "source": [
        "#Displaying the first five rows of the data\n",
        "data.head()"
      ],
      "metadata": {
        "colab": {
          "base_uri": "https://localhost:8080/",
          "height": 206
        },
        "id": "J0wQDw-J_Hcb",
        "outputId": "04c079d1-788f-48bd-9dc5-b9dfce7649c6"
      },
      "execution_count": 3,
      "outputs": [
        {
          "output_type": "execute_result",
          "data": {
            "text/plain": [
              "                     Timestamp Participant_ID  Gender Nationality  Age  \\\n",
              "0  2019/05/07 2:59:13 PM GMT+8         FPS001    Male      Indian   24   \n",
              "1  2019/05/07 2:59:45 PM GMT+8         FPS002  Female      Indian   22   \n",
              "2  2019/05/07 3:00:05 PM GMT+8         FPS003    Male      Indian   31   \n",
              "3  2019/05/07 3:00:11 PM GMT+8         FPS004  Female      Indian   25   \n",
              "4  2019/05/07 3:02:50 PM GMT+8         FPS005    Male      Indian   27   \n",
              "\n",
              "               Food              Juice Dessert  \n",
              "0  Traditional food        Fresh Juice   Maybe  \n",
              "1      Western Food  Carbonated drinks     Yes  \n",
              "2      Western Food        Fresh Juice   Maybe  \n",
              "3  Traditional food        Fresh Juice   Maybe  \n",
              "4  Traditional food        Fresh Juice   Maybe  "
            ],
            "text/html": [
              "\n",
              "  <div id=\"df-e098a7dc-a03e-4eb1-abd7-64f1e1304217\">\n",
              "    <div class=\"colab-df-container\">\n",
              "      <div>\n",
              "<style scoped>\n",
              "    .dataframe tbody tr th:only-of-type {\n",
              "        vertical-align: middle;\n",
              "    }\n",
              "\n",
              "    .dataframe tbody tr th {\n",
              "        vertical-align: top;\n",
              "    }\n",
              "\n",
              "    .dataframe thead th {\n",
              "        text-align: right;\n",
              "    }\n",
              "</style>\n",
              "<table border=\"1\" class=\"dataframe\">\n",
              "  <thead>\n",
              "    <tr style=\"text-align: right;\">\n",
              "      <th></th>\n",
              "      <th>Timestamp</th>\n",
              "      <th>Participant_ID</th>\n",
              "      <th>Gender</th>\n",
              "      <th>Nationality</th>\n",
              "      <th>Age</th>\n",
              "      <th>Food</th>\n",
              "      <th>Juice</th>\n",
              "      <th>Dessert</th>\n",
              "    </tr>\n",
              "  </thead>\n",
              "  <tbody>\n",
              "    <tr>\n",
              "      <th>0</th>\n",
              "      <td>2019/05/07 2:59:13 PM GMT+8</td>\n",
              "      <td>FPS001</td>\n",
              "      <td>Male</td>\n",
              "      <td>Indian</td>\n",
              "      <td>24</td>\n",
              "      <td>Traditional food</td>\n",
              "      <td>Fresh Juice</td>\n",
              "      <td>Maybe</td>\n",
              "    </tr>\n",
              "    <tr>\n",
              "      <th>1</th>\n",
              "      <td>2019/05/07 2:59:45 PM GMT+8</td>\n",
              "      <td>FPS002</td>\n",
              "      <td>Female</td>\n",
              "      <td>Indian</td>\n",
              "      <td>22</td>\n",
              "      <td>Western Food</td>\n",
              "      <td>Carbonated drinks</td>\n",
              "      <td>Yes</td>\n",
              "    </tr>\n",
              "    <tr>\n",
              "      <th>2</th>\n",
              "      <td>2019/05/07 3:00:05 PM GMT+8</td>\n",
              "      <td>FPS003</td>\n",
              "      <td>Male</td>\n",
              "      <td>Indian</td>\n",
              "      <td>31</td>\n",
              "      <td>Western Food</td>\n",
              "      <td>Fresh Juice</td>\n",
              "      <td>Maybe</td>\n",
              "    </tr>\n",
              "    <tr>\n",
              "      <th>3</th>\n",
              "      <td>2019/05/07 3:00:11 PM GMT+8</td>\n",
              "      <td>FPS004</td>\n",
              "      <td>Female</td>\n",
              "      <td>Indian</td>\n",
              "      <td>25</td>\n",
              "      <td>Traditional food</td>\n",
              "      <td>Fresh Juice</td>\n",
              "      <td>Maybe</td>\n",
              "    </tr>\n",
              "    <tr>\n",
              "      <th>4</th>\n",
              "      <td>2019/05/07 3:02:50 PM GMT+8</td>\n",
              "      <td>FPS005</td>\n",
              "      <td>Male</td>\n",
              "      <td>Indian</td>\n",
              "      <td>27</td>\n",
              "      <td>Traditional food</td>\n",
              "      <td>Fresh Juice</td>\n",
              "      <td>Maybe</td>\n",
              "    </tr>\n",
              "  </tbody>\n",
              "</table>\n",
              "</div>\n",
              "      <button class=\"colab-df-convert\" onclick=\"convertToInteractive('df-e098a7dc-a03e-4eb1-abd7-64f1e1304217')\"\n",
              "              title=\"Convert this dataframe to an interactive table.\"\n",
              "              style=\"display:none;\">\n",
              "        \n",
              "  <svg xmlns=\"http://www.w3.org/2000/svg\" height=\"24px\"viewBox=\"0 0 24 24\"\n",
              "       width=\"24px\">\n",
              "    <path d=\"M0 0h24v24H0V0z\" fill=\"none\"/>\n",
              "    <path d=\"M18.56 5.44l.94 2.06.94-2.06 2.06-.94-2.06-.94-.94-2.06-.94 2.06-2.06.94zm-11 1L8.5 8.5l.94-2.06 2.06-.94-2.06-.94L8.5 2.5l-.94 2.06-2.06.94zm10 10l.94 2.06.94-2.06 2.06-.94-2.06-.94-.94-2.06-.94 2.06-2.06.94z\"/><path d=\"M17.41 7.96l-1.37-1.37c-.4-.4-.92-.59-1.43-.59-.52 0-1.04.2-1.43.59L10.3 9.45l-7.72 7.72c-.78.78-.78 2.05 0 2.83L4 21.41c.39.39.9.59 1.41.59.51 0 1.02-.2 1.41-.59l7.78-7.78 2.81-2.81c.8-.78.8-2.07 0-2.86zM5.41 20L4 18.59l7.72-7.72 1.47 1.35L5.41 20z\"/>\n",
              "  </svg>\n",
              "      </button>\n",
              "      \n",
              "  <style>\n",
              "    .colab-df-container {\n",
              "      display:flex;\n",
              "      flex-wrap:wrap;\n",
              "      gap: 12px;\n",
              "    }\n",
              "\n",
              "    .colab-df-convert {\n",
              "      background-color: #E8F0FE;\n",
              "      border: none;\n",
              "      border-radius: 50%;\n",
              "      cursor: pointer;\n",
              "      display: none;\n",
              "      fill: #1967D2;\n",
              "      height: 32px;\n",
              "      padding: 0 0 0 0;\n",
              "      width: 32px;\n",
              "    }\n",
              "\n",
              "    .colab-df-convert:hover {\n",
              "      background-color: #E2EBFA;\n",
              "      box-shadow: 0px 1px 2px rgba(60, 64, 67, 0.3), 0px 1px 3px 1px rgba(60, 64, 67, 0.15);\n",
              "      fill: #174EA6;\n",
              "    }\n",
              "\n",
              "    [theme=dark] .colab-df-convert {\n",
              "      background-color: #3B4455;\n",
              "      fill: #D2E3FC;\n",
              "    }\n",
              "\n",
              "    [theme=dark] .colab-df-convert:hover {\n",
              "      background-color: #434B5C;\n",
              "      box-shadow: 0px 1px 3px 1px rgba(0, 0, 0, 0.15);\n",
              "      filter: drop-shadow(0px 1px 2px rgba(0, 0, 0, 0.3));\n",
              "      fill: #FFFFFF;\n",
              "    }\n",
              "  </style>\n",
              "\n",
              "      <script>\n",
              "        const buttonEl =\n",
              "          document.querySelector('#df-e098a7dc-a03e-4eb1-abd7-64f1e1304217 button.colab-df-convert');\n",
              "        buttonEl.style.display =\n",
              "          google.colab.kernel.accessAllowed ? 'block' : 'none';\n",
              "\n",
              "        async function convertToInteractive(key) {\n",
              "          const element = document.querySelector('#df-e098a7dc-a03e-4eb1-abd7-64f1e1304217');\n",
              "          const dataTable =\n",
              "            await google.colab.kernel.invokeFunction('convertToInteractive',\n",
              "                                                     [key], {});\n",
              "          if (!dataTable) return;\n",
              "\n",
              "          const docLinkHtml = 'Like what you see? Visit the ' +\n",
              "            '<a target=\"_blank\" href=https://colab.research.google.com/notebooks/data_table.ipynb>data table notebook</a>'\n",
              "            + ' to learn more about interactive tables.';\n",
              "          element.innerHTML = '';\n",
              "          dataTable['output_type'] = 'display_data';\n",
              "          await google.colab.output.renderOutput(dataTable, element);\n",
              "          const docLink = document.createElement('div');\n",
              "          docLink.innerHTML = docLinkHtml;\n",
              "          element.appendChild(docLink);\n",
              "        }\n",
              "      </script>\n",
              "    </div>\n",
              "  </div>\n",
              "  "
            ]
          },
          "metadata": {},
          "execution_count": 3
        }
      ]
    },
    {
      "cell_type": "code",
      "source": [],
      "metadata": {
        "id": "1ALVYhR__I4u"
      },
      "execution_count": null,
      "outputs": []
    }
  ]
}